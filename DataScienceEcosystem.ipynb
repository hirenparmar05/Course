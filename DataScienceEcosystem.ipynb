{
 "cells": [
  {
   "cell_type": "markdown",
   "id": "366a9207-eb34-402d-a3af-e6fd1da5557a",
   "metadata": {},
   "source": [
    "Data Science Tools and Ecosystem"
   ]
  },
  {
   "cell_type": "markdown",
   "id": "56014fe3-145a-43a5-ad67-e60863407825",
   "metadata": {},
   "source": [
    "In this notebook, Data Science Tools and Ecosystem are summarized."
   ]
  },
  {
   "cell_type": "markdown",
   "id": "40e2eb59-6a74-4d53-88b9-4ab75e456946",
   "metadata": {},
   "source": [
    "Some of the popular languages that Data Scientists use are:\n",
    "1. Python\n",
    "2. R code\n",
    "3. C++"
   ]
  },
  {
   "cell_type": "code",
   "execution_count": null,
   "id": "f070237c-6fc5-47a3-b0c4-2accd0358678",
   "metadata": {},
   "outputs": [],
   "source": [
    "Objectives:\n",
    "- List Common Libraries that Data Scientists Use\n",
    "- List Popular languages that Data Scientists Use\n",
    "- Evaluate arithmetic using Python"
   ]
  },
  {
   "cell_type": "markdown",
   "id": "24ca01c5-5ac4-4656-ad4d-267c26638796",
   "metadata": {},
   "source": [
    "Some of the commonly used libraries used by Data Scientists include:\n",
    "1. NumPy\n",
    "2. Skicit-learn\n",
    "3. TensorFlow"
   ]
  },
  {
   "cell_type": "markdown",
   "id": "4ccb503a-9c28-4fa7-bae5-ef12156eefbb",
   "metadata": {},
   "source": [
    "Data Science Tools |\n",
    "--------------------\n",
    "1. PyTorch         |\n",
    "2. Jupyter Notebook|\n",
    "3. RStudio         |\n",
    "--------------------\n"
   ]
  },
  {
   "cell_type": "markdown",
   "id": "0e2eced9-f7fd-4f09-a2f4-f618a40512f2",
   "metadata": {},
   "source": [
    "Below are a few examples of evaluating arithmetic expresssions in Python."
   ]
  },
  {
   "cell_type": "code",
   "execution_count": 1,
   "id": "4f47b3c7-211f-4819-bc1a-01ba95cb62f5",
   "metadata": {},
   "outputs": [
    {
     "data": {
      "text/plain": [
       "17"
      ]
     },
     "execution_count": 1,
     "metadata": {},
     "output_type": "execute_result"
    }
   ],
   "source": [
    "# This is a simple arithmetic expression to multipy then add integers\n",
    "(3*4)+5"
   ]
  },
  {
   "cell_type": "code",
   "execution_count": 3,
   "id": "39c12eae-f072-4068-8797-1ff979ad70f8",
   "metadata": {},
   "outputs": [
    {
     "name": "stdout",
     "output_type": "stream",
     "text": [
      "3.3333333333333335 hours\n"
     ]
    }
   ],
   "source": [
    "# This will convert 200 mintues to hours by diving by 60\n",
    "hours = 200/60 \n",
    "print(str(hours) + \" hours\")"
   ]
  },
  {
   "cell_type": "markdown",
   "id": "54537590-f713-4690-ae08-1b26735e10fc",
   "metadata": {},
   "source": [
    "Author\n",
    "Hiren"
   ]
  }
 ],
 "metadata": {
  "kernelspec": {
   "display_name": "Python 3 (ipykernel)",
   "language": "python",
   "name": "python3"
  },
  "language_info": {
   "codemirror_mode": {
    "name": "ipython",
    "version": 3
   },
   "file_extension": ".py",
   "mimetype": "text/x-python",
   "name": "python",
   "nbconvert_exporter": "python",
   "pygments_lexer": "ipython3",
   "version": "3.8.18"
  }
 },
 "nbformat": 4,
 "nbformat_minor": 5
}
